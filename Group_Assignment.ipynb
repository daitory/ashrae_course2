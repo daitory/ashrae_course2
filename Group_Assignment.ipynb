{
 "cells": [
  {
   "cell_type": "markdown",
   "metadata": {},
   "source": [
    "# GROUP ASSIGNMENT - STATISTICS FOR DATA SCIENCE - FALL 2019 #"
   ]
  },
  {
   "cell_type": "markdown",
   "metadata": {},
   "source": [
    "### Group Members: Darwing Cara, David Kobayashi, Eric Koritko, Stefan Lazarevic, Patrick McDonnell ###"
   ]
  },
  {
   "cell_type": "markdown",
   "metadata": {},
   "source": [
    "We have selected to work on a data set from ASHRAE (a technical society for heating, ventilation, and air conditioning in buildings). The dataset can be found here: https://www.kaggle.com/c/ashrae-energy-prediction\n",
    "\n",
    "The goal of this exercise is to use the dataset to build a model that can predict energy use in a building based on that building's features (building use type, outdoor air conditions, etc)."
   ]
  },
  {
   "cell_type": "markdown",
   "metadata": {},
   "source": [
    "## 1.0 - IMPORT PACKAGES ##"
   ]
  },
  {
   "cell_type": "code",
   "execution_count": 1,
   "metadata": {},
   "outputs": [],
   "source": [
    "import pandas as pd\n",
    "import numpy  as np\n",
    "import math as math\n",
    "import datetime\n",
    "import time\n",
    "from dateutil.parser import parse\n",
    "import matplotlib.pyplot as plt\n",
    "import seaborn as sns\n",
    "import scipy.stats as stats\n",
    "import statsmodels as sm\n",
    "import statsmodels.formula.api as smf\n",
    "from sklearn.linear_model import LinearRegression\n",
    "from sklearn.preprocessing import PolynomialFeatures\n",
    "\n",
    "from pandas.plotting import register_matplotlib_converters\n",
    "register_matplotlib_converters()"
   ]
  },
  {
   "cell_type": "markdown",
   "metadata": {},
   "source": [
    "## 1.1 - DEFINE USEFUL FUNCTIONS"
   ]
  },
  {
   "cell_type": "code",
   "execution_count": 2,
   "metadata": {},
   "outputs": [],
   "source": [
    "def compress_dataframe(dataframe):\n",
    "\n",
    "    start = time.time()\n",
    "    \n",
    "    print('Dataframe was {:.2f} MB'.format(startingMemoryUsage))\n",
    "\n",
    "    for column in dataframe.columns:\n",
    "        columnDataType = dataframe[column].dtype\n",
    "        \n",
    "        if column == 'timestamp':\n",
    "            dataframe[column] = pd.to_datetime(dataframe[column], format='%Y-%m-%d %H:%M:%S')\n",
    "        \n",
    "        elif columnDataType != object:\n",
    "            columnMin = dataframe[column].min()\n",
    "            columnMax = dataframe[column].max()\n",
    "\n",
    "            if str(columnDataType)[:3] == 'int':\n",
    "                if columnMin > np.iinfo(np.int8).min and columnMax < np.iinfo(np.int8).max:\n",
    "                    dataframe[column] = dataframe[column].astype(np.int8)\n",
    "                elif columnMin > np.iinfo(np.int16).min and columnMax < np.iinfo(np.int16).max:\n",
    "                    dataframe[column] = dataframe[column].astype(np.int16)\n",
    "                elif columnMin > np.iinfo(np.int32).min and columnMax < np.iinfo(np.int32).max:\n",
    "                    dataframe[column] = dataframe[column].astype(np.int32)\n",
    "                elif columnMin > np.iinfo(np.int64).min and columnMax < np.iinfo(np.int64).max:\n",
    "                    dataframe[column] = dataframe[column].astype(np.int64)  \n",
    "            else:\n",
    "                if columnMin > np.finfo(np.float16).min and columnMax < np.finfo(np.float16).max:\n",
    "                    dataframe[column] = dataframe[column].astype(np.float16)\n",
    "                elif columnMin > np.finfo(np.float32).min and columnMax < np.finfo(np.float32).max:\n",
    "                    dataframe[column] = dataframe[column].astype(np.float32)\n",
    "                else:\n",
    "                    dataframe[column] = dataframe[column].astype(np.float64)\n",
    "        else:\n",
    "            dataframe[column] = dataframe[column].astype('category')\n",
    "\n",
    "    endingingMemoryUsage = dataframe.memory_usage().sum() / 1024**2\n",
    "\n",
    "    print('Dataframe is now: {:.2f} MB'.format(endingingMemoryUsage))\n",
    "    \n",
    "    print(\"Time to reduce dataframe size:\",round((time.time()-start)/60, 2), 'minutes.')"
   ]
  },
  {
   "cell_type": "code",
   "execution_count": 3,
   "metadata": {},
   "outputs": [],
   "source": [
    "# Given a building_id, a meter type, and a date range, plot the energy use\n",
    "\n",
    "def plotData(df, building_id, meter, name, start_day, end_day):\n",
    "  \n",
    "    df_plt = df[(df['building_id'] == building_id) & (df['meter'] == meter)]\n",
    "    df_plt = df_plt[(df_plt['timestamp'] > start_day) & (df_plt['timestamp'] < end_day)]\n",
    "    \n",
    "    plt.figure(figsize=(20,2))\n",
    "    plt.plot(df_plt['timestamp'], df_plt['meter_reading'])\n",
    "    plt.xlabel('Time')\n",
    "    plt.ylabel('Meter Reading')\n",
    "    plt.title(name)\n",
    "    plt.show()"
   ]
  },
  {
   "cell_type": "code",
   "execution_count": 4,
   "metadata": {},
   "outputs": [],
   "source": [
    "# Given a zone_id and a date range, plot the weather\n",
    "\n",
    "def plotWeather(df, zone_id, name, start_day, end_day, parameter):\n",
    "\n",
    "    df_plt = df[df['site_id'] == zone_id]\n",
    "    df_plt = df_plt[(df_plt['timestamp'] > start_day) & (df_plt['timestamp'] < end_day)]\n",
    "    \n",
    "    plt.figure(figsize=(20,2))\n",
    "    plt.plot(df_plt['timestamp'], df_plt[parameter])\n",
    "    plt.xlabel('Time')\n",
    "    plt.ylabel('Value')\n",
    "    plt.title(name)\n",
    "    plt.show()"
   ]
  },
  {
   "cell_type": "code",
   "execution_count": 5,
   "metadata": {},
   "outputs": [],
   "source": [
    "# Given a building_id, plot energy use (all three meters, if available) and weather data\n",
    "\n",
    "def display_energy_use(df, building_id, start_day, end_day):\n",
    "\n",
    "    print(\"Displaying data for Building\", building_id, \"between:\", start_day, \"and\", end_day, '\\n')\n",
    "    \n",
    "    print(\"Building's primary use:\", df.loc[df['building_id'] == building_id, 'primary_use'].iloc[0])\n",
    "    \n",
    "    print(\"Building size:\", df.loc[df['building_id'] == building_id, 'square_feet'].iloc[0], 'square feet')\n",
    "      \n",
    "    for meter_type in df[df['building_id'] == building_id].groupby('meter').meter.unique():\n",
    "        if(meter_type == elec_meter):\n",
    "            plotData(df, building_id, elec_meter, \"Electricity Meter Data\", start_day, end_day)\n",
    "        if(meter_type == chw_meter):\n",
    "            plotData(df, building_id, chw_meter,\"Chilled Water Meter Data\", start_day, end_day)\n",
    "        if(meter_type == steam_meter):\n",
    "            plotData(df, building_id, steam_meter, \"Steam Meter Data\", start_day, end_day)\n",
    "        if(meter_type == hw_meter):\n",
    "            plotData(df, building_id,hw_meter, \"Hot Water Meter Data\", start_day, end_day)            \n",
    "            \n",
    "    plotWeather(df, df.loc[df['building_id'] == building, 'site_id'].iloc[0], \"Weather Data - Air Temperature\", start_day, end_day, 'air_temperature')\n",
    "    plotWeather(df, df.loc[df['building_id'] == building, 'site_id'].iloc[0], \"Weather Data - Cloud Coverage\", start_day, end_day, 'cloud_coverage')\n",
    "    plotWeather(df, df.loc[df['building_id'] == building, 'site_id'].iloc[0], \"Weather Data - Dewpoint Temperature\", start_day, end_day, 'dew_temperature')\n",
    "    plotWeather(df, df.loc[df['building_id'] == building, 'site_id'].iloc[0], \"Weather Data - Precipitation Depth\", start_day, end_day, 'precip_depth_1_hr')\n",
    "    plotWeather(df, df.loc[df['building_id'] == building, 'site_id'].iloc[0], \"Weather Data - Sea Level Pressure\", start_day, end_day, 'sea_level_pressure')\n",
    "    plotWeather(df, df.loc[df['building_id'] == building, 'site_id'].iloc[0], \"Weather Data - Wind Direction\", start_day, end_day, 'wind_direction')\n",
    "    plotWeather(df, df.loc[df['building_id'] == building, 'site_id'].iloc[0], \"Weather Data - Wind Speed\", start_day, end_day, 'wind_speed')"
   ]
  },
  {
   "cell_type": "markdown",
   "metadata": {},
   "source": [
    "## 1.2 - DEFINE USEFUL CONSTANTS"
   ]
  },
  {
   "cell_type": "code",
   "execution_count": 6,
   "metadata": {},
   "outputs": [],
   "source": [
    "elec_meter = 0\n",
    "chw_meter = 1\n",
    "steam_meter = 2\n",
    "hw_meter = 3"
   ]
  },
  {
   "cell_type": "markdown",
   "metadata": {},
   "source": [
    "# 2.0 - LOAD DATASET INTO MEMORY"
   ]
  },
  {
   "cell_type": "code",
   "execution_count": 7,
   "metadata": {},
   "outputs": [
    {
     "name": "stdout",
     "output_type": "stream",
     "text": [
      "Time to read the CSV file into a dataframe:  5.84 seconds \n",
      "\n",
      "Dataframe size is 616.95 MB\n"
     ]
    }
   ],
   "source": [
    "start = time.time()\n",
    "\n",
    "df = pd.read_csv(filepath_or_buffer='train.csv', sep=',', low_memory=False)\n",
    "\n",
    "print('Time to read the CSV file into a dataframe: ',round((time.time()-start), 2), 'seconds \\n')\n",
    "\n",
    "startingMemoryUsage = df.memory_usage().sum() / 1024**2\n",
    "\n",
    "print('Dataframe size is {:.2f} MB'.format(startingMemoryUsage))"
   ]
  },
  {
   "cell_type": "code",
   "execution_count": 8,
   "metadata": {},
   "outputs": [
    {
     "name": "stdout",
     "output_type": "stream",
     "text": [
      "<class 'pandas.core.frame.DataFrame'>\n",
      "RangeIndex: 20216100 entries, 0 to 20216099\n",
      "Data columns (total 4 columns):\n",
      "building_id      int64\n",
      "meter            int64\n",
      "timestamp        object\n",
      "meter_reading    float64\n",
      "dtypes: float64(1), int64(2), object(1)\n",
      "memory usage: 616.9+ MB\n"
     ]
    }
   ],
   "source": [
    "df.info()"
   ]
  },
  {
   "cell_type": "code",
   "execution_count": 9,
   "metadata": {},
   "outputs": [
    {
     "data": {
      "text/html": [
       "<div>\n",
       "<style scoped>\n",
       "    .dataframe tbody tr th:only-of-type {\n",
       "        vertical-align: middle;\n",
       "    }\n",
       "\n",
       "    .dataframe tbody tr th {\n",
       "        vertical-align: top;\n",
       "    }\n",
       "\n",
       "    .dataframe thead th {\n",
       "        text-align: right;\n",
       "    }\n",
       "</style>\n",
       "<table border=\"1\" class=\"dataframe\">\n",
       "  <thead>\n",
       "    <tr style=\"text-align: right;\">\n",
       "      <th></th>\n",
       "      <th>building_id</th>\n",
       "      <th>meter</th>\n",
       "      <th>timestamp</th>\n",
       "      <th>meter_reading</th>\n",
       "    </tr>\n",
       "  </thead>\n",
       "  <tbody>\n",
       "    <tr>\n",
       "      <td>0</td>\n",
       "      <td>0</td>\n",
       "      <td>0</td>\n",
       "      <td>2016-01-01 00:00:00</td>\n",
       "      <td>0.0</td>\n",
       "    </tr>\n",
       "    <tr>\n",
       "      <td>1</td>\n",
       "      <td>1</td>\n",
       "      <td>0</td>\n",
       "      <td>2016-01-01 00:00:00</td>\n",
       "      <td>0.0</td>\n",
       "    </tr>\n",
       "    <tr>\n",
       "      <td>2</td>\n",
       "      <td>2</td>\n",
       "      <td>0</td>\n",
       "      <td>2016-01-01 00:00:00</td>\n",
       "      <td>0.0</td>\n",
       "    </tr>\n",
       "    <tr>\n",
       "      <td>3</td>\n",
       "      <td>3</td>\n",
       "      <td>0</td>\n",
       "      <td>2016-01-01 00:00:00</td>\n",
       "      <td>0.0</td>\n",
       "    </tr>\n",
       "    <tr>\n",
       "      <td>4</td>\n",
       "      <td>4</td>\n",
       "      <td>0</td>\n",
       "      <td>2016-01-01 00:00:00</td>\n",
       "      <td>0.0</td>\n",
       "    </tr>\n",
       "  </tbody>\n",
       "</table>\n",
       "</div>"
      ],
      "text/plain": [
       "   building_id  meter            timestamp  meter_reading\n",
       "0            0      0  2016-01-01 00:00:00            0.0\n",
       "1            1      0  2016-01-01 00:00:00            0.0\n",
       "2            2      0  2016-01-01 00:00:00            0.0\n",
       "3            3      0  2016-01-01 00:00:00            0.0\n",
       "4            4      0  2016-01-01 00:00:00            0.0"
      ]
     },
     "execution_count": 9,
     "metadata": {},
     "output_type": "execute_result"
    }
   ],
   "source": [
    "df.head()"
   ]
  },
  {
   "cell_type": "code",
   "execution_count": 10,
   "metadata": {},
   "outputs": [
    {
     "name": "stdout",
     "output_type": "stream",
     "text": [
      "Dataframe was 616.95 MB\n",
      "Dataframe is now: 289.19 MB\n",
      "Time to reduce dataframe size: 0.03 minutes.\n"
     ]
    }
   ],
   "source": [
    "compress_dataframe(df)"
   ]
  },
  {
   "cell_type": "code",
   "execution_count": 11,
   "metadata": {},
   "outputs": [
    {
     "name": "stdout",
     "output_type": "stream",
     "text": [
      "Time to read the CSV file into a dataframe:  0.07 seconds \n",
      "\n",
      "Dataframe size is 9.60 MB\n"
     ]
    }
   ],
   "source": [
    "start = time.time()\n",
    "\n",
    "df_weather = pd.read_csv(filepath_or_buffer='weather_train.csv', sep=',', low_memory=False)\n",
    "\n",
    "print('Time to read the CSV file into a dataframe: ',round((time.time()-start), 2), 'seconds \\n')\n",
    "\n",
    "startingMemoryUsage = df_weather.memory_usage().sum() / 1024**2\n",
    "\n",
    "print('Dataframe size is {:.2f} MB'.format(startingMemoryUsage))"
   ]
  },
  {
   "cell_type": "code",
   "execution_count": 12,
   "metadata": {},
   "outputs": [
    {
     "name": "stdout",
     "output_type": "stream",
     "text": [
      "<class 'pandas.core.frame.DataFrame'>\n",
      "RangeIndex: 139773 entries, 0 to 139772\n",
      "Data columns (total 9 columns):\n",
      "site_id               139773 non-null int64\n",
      "timestamp             139773 non-null object\n",
      "air_temperature       139718 non-null float64\n",
      "cloud_coverage        70600 non-null float64\n",
      "dew_temperature       139660 non-null float64\n",
      "precip_depth_1_hr     89484 non-null float64\n",
      "sea_level_pressure    129155 non-null float64\n",
      "wind_direction        133505 non-null float64\n",
      "wind_speed            139469 non-null float64\n",
      "dtypes: float64(7), int64(1), object(1)\n",
      "memory usage: 9.6+ MB\n"
     ]
    }
   ],
   "source": [
    "df_weather.info()"
   ]
  },
  {
   "cell_type": "code",
   "execution_count": 13,
   "metadata": {},
   "outputs": [
    {
     "data": {
      "text/html": [
       "<div>\n",
       "<style scoped>\n",
       "    .dataframe tbody tr th:only-of-type {\n",
       "        vertical-align: middle;\n",
       "    }\n",
       "\n",
       "    .dataframe tbody tr th {\n",
       "        vertical-align: top;\n",
       "    }\n",
       "\n",
       "    .dataframe thead th {\n",
       "        text-align: right;\n",
       "    }\n",
       "</style>\n",
       "<table border=\"1\" class=\"dataframe\">\n",
       "  <thead>\n",
       "    <tr style=\"text-align: right;\">\n",
       "      <th></th>\n",
       "      <th>site_id</th>\n",
       "      <th>timestamp</th>\n",
       "      <th>air_temperature</th>\n",
       "      <th>cloud_coverage</th>\n",
       "      <th>dew_temperature</th>\n",
       "      <th>precip_depth_1_hr</th>\n",
       "      <th>sea_level_pressure</th>\n",
       "      <th>wind_direction</th>\n",
       "      <th>wind_speed</th>\n",
       "    </tr>\n",
       "  </thead>\n",
       "  <tbody>\n",
       "    <tr>\n",
       "      <td>0</td>\n",
       "      <td>0</td>\n",
       "      <td>2016-01-01 00:00:00</td>\n",
       "      <td>25.0</td>\n",
       "      <td>6.0</td>\n",
       "      <td>20.0</td>\n",
       "      <td>NaN</td>\n",
       "      <td>1019.7</td>\n",
       "      <td>0.0</td>\n",
       "      <td>0.0</td>\n",
       "    </tr>\n",
       "    <tr>\n",
       "      <td>1</td>\n",
       "      <td>0</td>\n",
       "      <td>2016-01-01 01:00:00</td>\n",
       "      <td>24.4</td>\n",
       "      <td>NaN</td>\n",
       "      <td>21.1</td>\n",
       "      <td>-1.0</td>\n",
       "      <td>1020.2</td>\n",
       "      <td>70.0</td>\n",
       "      <td>1.5</td>\n",
       "    </tr>\n",
       "    <tr>\n",
       "      <td>2</td>\n",
       "      <td>0</td>\n",
       "      <td>2016-01-01 02:00:00</td>\n",
       "      <td>22.8</td>\n",
       "      <td>2.0</td>\n",
       "      <td>21.1</td>\n",
       "      <td>0.0</td>\n",
       "      <td>1020.2</td>\n",
       "      <td>0.0</td>\n",
       "      <td>0.0</td>\n",
       "    </tr>\n",
       "    <tr>\n",
       "      <td>3</td>\n",
       "      <td>0</td>\n",
       "      <td>2016-01-01 03:00:00</td>\n",
       "      <td>21.1</td>\n",
       "      <td>2.0</td>\n",
       "      <td>20.6</td>\n",
       "      <td>0.0</td>\n",
       "      <td>1020.1</td>\n",
       "      <td>0.0</td>\n",
       "      <td>0.0</td>\n",
       "    </tr>\n",
       "    <tr>\n",
       "      <td>4</td>\n",
       "      <td>0</td>\n",
       "      <td>2016-01-01 04:00:00</td>\n",
       "      <td>20.0</td>\n",
       "      <td>2.0</td>\n",
       "      <td>20.0</td>\n",
       "      <td>-1.0</td>\n",
       "      <td>1020.0</td>\n",
       "      <td>250.0</td>\n",
       "      <td>2.6</td>\n",
       "    </tr>\n",
       "  </tbody>\n",
       "</table>\n",
       "</div>"
      ],
      "text/plain": [
       "   site_id            timestamp  air_temperature  cloud_coverage  \\\n",
       "0        0  2016-01-01 00:00:00             25.0             6.0   \n",
       "1        0  2016-01-01 01:00:00             24.4             NaN   \n",
       "2        0  2016-01-01 02:00:00             22.8             2.0   \n",
       "3        0  2016-01-01 03:00:00             21.1             2.0   \n",
       "4        0  2016-01-01 04:00:00             20.0             2.0   \n",
       "\n",
       "   dew_temperature  precip_depth_1_hr  sea_level_pressure  wind_direction  \\\n",
       "0             20.0                NaN              1019.7             0.0   \n",
       "1             21.1               -1.0              1020.2            70.0   \n",
       "2             21.1                0.0              1020.2             0.0   \n",
       "3             20.6                0.0              1020.1             0.0   \n",
       "4             20.0               -1.0              1020.0           250.0   \n",
       "\n",
       "   wind_speed  \n",
       "0         0.0  \n",
       "1         1.5  \n",
       "2         0.0  \n",
       "3         0.0  \n",
       "4         2.6  "
      ]
     },
     "execution_count": 13,
     "metadata": {},
     "output_type": "execute_result"
    }
   ],
   "source": [
    "df_weather.head()"
   ]
  },
  {
   "cell_type": "code",
   "execution_count": 14,
   "metadata": {},
   "outputs": [
    {
     "name": "stdout",
     "output_type": "stream",
     "text": [
      "Dataframe was 9.60 MB\n",
      "Dataframe is now: 3.07 MB\n",
      "Time to reduce dataframe size: 0.0 minutes.\n"
     ]
    }
   ],
   "source": [
    "compress_dataframe(df_weather)"
   ]
  },
  {
   "cell_type": "code",
   "execution_count": 15,
   "metadata": {},
   "outputs": [
    {
     "name": "stdout",
     "output_type": "stream",
     "text": [
      "Time to read the CSV file into a dataframe:  0.0 seconds \n",
      "\n",
      "Dataframe size is 3.07 MB\n"
     ]
    }
   ],
   "source": [
    "start = time.time()\n",
    "\n",
    "df_building_metadata = pd.read_csv(filepath_or_buffer='building_metadata.csv', sep=',', low_memory=False)\n",
    "\n",
    "print('Time to read the CSV file into a dataframe: ',round((time.time()-start), 2), 'seconds \\n')\n",
    "\n",
    "startingMemoryUsage = df_weather.memory_usage().sum() / 1024**2\n",
    "\n",
    "print('Dataframe size is {:.2f} MB'.format(startingMemoryUsage))"
   ]
  },
  {
   "cell_type": "code",
   "execution_count": 16,
   "metadata": {},
   "outputs": [
    {
     "name": "stdout",
     "output_type": "stream",
     "text": [
      "<class 'pandas.core.frame.DataFrame'>\n",
      "RangeIndex: 1449 entries, 0 to 1448\n",
      "Data columns (total 6 columns):\n",
      "site_id        1449 non-null int64\n",
      "building_id    1449 non-null int64\n",
      "primary_use    1449 non-null object\n",
      "square_feet    1449 non-null int64\n",
      "year_built     675 non-null float64\n",
      "floor_count    355 non-null float64\n",
      "dtypes: float64(2), int64(3), object(1)\n",
      "memory usage: 68.0+ KB\n"
     ]
    }
   ],
   "source": [
    "df_building_metadata.info()"
   ]
  },
  {
   "cell_type": "code",
   "execution_count": 17,
   "metadata": {},
   "outputs": [
    {
     "data": {
      "text/html": [
       "<div>\n",
       "<style scoped>\n",
       "    .dataframe tbody tr th:only-of-type {\n",
       "        vertical-align: middle;\n",
       "    }\n",
       "\n",
       "    .dataframe tbody tr th {\n",
       "        vertical-align: top;\n",
       "    }\n",
       "\n",
       "    .dataframe thead th {\n",
       "        text-align: right;\n",
       "    }\n",
       "</style>\n",
       "<table border=\"1\" class=\"dataframe\">\n",
       "  <thead>\n",
       "    <tr style=\"text-align: right;\">\n",
       "      <th></th>\n",
       "      <th>site_id</th>\n",
       "      <th>building_id</th>\n",
       "      <th>primary_use</th>\n",
       "      <th>square_feet</th>\n",
       "      <th>year_built</th>\n",
       "      <th>floor_count</th>\n",
       "    </tr>\n",
       "  </thead>\n",
       "  <tbody>\n",
       "    <tr>\n",
       "      <td>0</td>\n",
       "      <td>0</td>\n",
       "      <td>0</td>\n",
       "      <td>Education</td>\n",
       "      <td>7432</td>\n",
       "      <td>2008.0</td>\n",
       "      <td>NaN</td>\n",
       "    </tr>\n",
       "    <tr>\n",
       "      <td>1</td>\n",
       "      <td>0</td>\n",
       "      <td>1</td>\n",
       "      <td>Education</td>\n",
       "      <td>2720</td>\n",
       "      <td>2004.0</td>\n",
       "      <td>NaN</td>\n",
       "    </tr>\n",
       "    <tr>\n",
       "      <td>2</td>\n",
       "      <td>0</td>\n",
       "      <td>2</td>\n",
       "      <td>Education</td>\n",
       "      <td>5376</td>\n",
       "      <td>1991.0</td>\n",
       "      <td>NaN</td>\n",
       "    </tr>\n",
       "    <tr>\n",
       "      <td>3</td>\n",
       "      <td>0</td>\n",
       "      <td>3</td>\n",
       "      <td>Education</td>\n",
       "      <td>23685</td>\n",
       "      <td>2002.0</td>\n",
       "      <td>NaN</td>\n",
       "    </tr>\n",
       "    <tr>\n",
       "      <td>4</td>\n",
       "      <td>0</td>\n",
       "      <td>4</td>\n",
       "      <td>Education</td>\n",
       "      <td>116607</td>\n",
       "      <td>1975.0</td>\n",
       "      <td>NaN</td>\n",
       "    </tr>\n",
       "  </tbody>\n",
       "</table>\n",
       "</div>"
      ],
      "text/plain": [
       "   site_id  building_id primary_use  square_feet  year_built  floor_count\n",
       "0        0            0   Education         7432      2008.0          NaN\n",
       "1        0            1   Education         2720      2004.0          NaN\n",
       "2        0            2   Education         5376      1991.0          NaN\n",
       "3        0            3   Education        23685      2002.0          NaN\n",
       "4        0            4   Education       116607      1975.0          NaN"
      ]
     },
     "execution_count": 17,
     "metadata": {},
     "output_type": "execute_result"
    }
   ],
   "source": [
    "df_building_metadata.head()"
   ]
  },
  {
   "cell_type": "code",
   "execution_count": 18,
   "metadata": {},
   "outputs": [
    {
     "name": "stdout",
     "output_type": "stream",
     "text": [
      "Dataframe was 3.07 MB\n",
      "Dataframe is now: 0.02 MB\n",
      "Time to reduce dataframe size: 0.0 minutes.\n"
     ]
    }
   ],
   "source": [
    "compress_dataframe(df_building_metadata)"
   ]
  },
  {
   "cell_type": "markdown",
   "metadata": {},
   "source": [
    "# 3.0 - CLEAN THE DATASET"
   ]
  },
  {
   "cell_type": "markdown",
   "metadata": {},
   "source": [
    "## 3.1 - CHECK FOR DUPLICATE ROWS"
   ]
  },
  {
   "cell_type": "code",
   "execution_count": 19,
   "metadata": {},
   "outputs": [
    {
     "name": "stdout",
     "output_type": "stream",
     "text": [
      "<class 'pandas.core.frame.DataFrame'>\n",
      "Int64Index: 0 entries\n",
      "Data columns (total 4 columns):\n",
      "building_id      0 non-null int16\n",
      "meter            0 non-null int8\n",
      "timestamp        0 non-null datetime64[ns]\n",
      "meter_reading    0 non-null float32\n",
      "dtypes: datetime64[ns](1), float32(1), int16(1), int8(1)\n",
      "memory usage: 0.0 bytes\n"
     ]
    }
   ],
   "source": [
    "df[df.duplicated()].info()"
   ]
  },
  {
   "cell_type": "markdown",
   "metadata": {},
   "source": [
    "## 3.2 - CHECK FOR NULL VALUES IN THE MAIN DATASET AND WEATHER DATASET"
   ]
  },
  {
   "cell_type": "code",
   "execution_count": 20,
   "metadata": {},
   "outputs": [
    {
     "name": "stdout",
     "output_type": "stream",
     "text": [
      "meter_reading    0.0\n",
      "timestamp        0.0\n",
      "meter            0.0\n",
      "building_id      0.0\n",
      "dtype: float64\n"
     ]
    }
   ],
   "source": [
    "# Show how many nulls there are in the main dataset (expressed as a percentage)\n",
    "print(round(df.isna().sum().sort_values(ascending=False) / len(df.index) * 100, 3))"
   ]
  },
  {
   "cell_type": "code",
   "execution_count": 21,
   "metadata": {},
   "outputs": [
    {
     "name": "stdout",
     "output_type": "stream",
     "text": [
      "cloud_coverage        49.490\n",
      "precip_depth_1_hr     35.979\n",
      "sea_level_pressure     7.597\n",
      "wind_direction         4.484\n",
      "wind_speed             0.217\n",
      "dew_temperature        0.081\n",
      "air_temperature        0.039\n",
      "timestamp              0.000\n",
      "site_id                0.000\n",
      "dtype: float64\n"
     ]
    }
   ],
   "source": [
    "# Show how many nulls there are in the weather dataset (expressed as a percentage)\n",
    "print(round(df_weather.isna().sum().sort_values(ascending=False) / len(df_weather.index) * 100, 3))"
   ]
  },
  {
   "cell_type": "code",
   "execution_count": 22,
   "metadata": {},
   "outputs": [
    {
     "name": "stdout",
     "output_type": "stream",
     "text": [
      "wind_speed            0.0\n",
      "wind_direction        0.0\n",
      "sea_level_pressure    0.0\n",
      "precip_depth_1_hr     0.0\n",
      "dew_temperature       0.0\n",
      "cloud_coverage        0.0\n",
      "air_temperature       0.0\n",
      "timestamp             0.0\n",
      "site_id               0.0\n",
      "dtype: float64\n"
     ]
    }
   ],
   "source": [
    "# Fill nulls with linear interpolation\n",
    "df_weather = df_weather.interpolate()\n",
    "df_weather = df_weather.fillna(0)\n",
    "\n",
    "# Double check how many nulls are in the feature (should be 0 now)\n",
    "print(round(df_weather.isna().sum().sort_values(ascending=False) / len(df_weather.index) * 100, 3))"
   ]
  },
  {
   "cell_type": "code",
   "execution_count": 23,
   "metadata": {},
   "outputs": [
    {
     "name": "stdout",
     "output_type": "stream",
     "text": [
      "floor_count    75.500\n",
      "year_built     53.416\n",
      "square_feet     0.000\n",
      "primary_use     0.000\n",
      "building_id     0.000\n",
      "site_id         0.000\n",
      "dtype: float64\n"
     ]
    }
   ],
   "source": [
    "# Show how many nulls there are in the metadata dataset (expressed as a percentage)\n",
    "print(round(df_building_metadata.isna().sum().sort_values(ascending=False) / len(df_building_metadata.index) * 100, 3))"
   ]
  },
  {
   "cell_type": "markdown",
   "metadata": {},
   "source": [
    "## 3.3 - FILTER OUT OFFICE BUILDINGS AND MERGE DATASETS"
   ]
  },
  {
   "cell_type": "code",
   "execution_count": 24,
   "metadata": {},
   "outputs": [
    {
     "data": {
      "text/html": [
       "<div>\n",
       "<style scoped>\n",
       "    .dataframe tbody tr th:only-of-type {\n",
       "        vertical-align: middle;\n",
       "    }\n",
       "\n",
       "    .dataframe tbody tr th {\n",
       "        vertical-align: top;\n",
       "    }\n",
       "\n",
       "    .dataframe thead th {\n",
       "        text-align: right;\n",
       "    }\n",
       "</style>\n",
       "<table border=\"1\" class=\"dataframe\">\n",
       "  <thead>\n",
       "    <tr style=\"text-align: right;\">\n",
       "      <th></th>\n",
       "      <th>building_id</th>\n",
       "      <th>meter</th>\n",
       "      <th>timestamp</th>\n",
       "      <th>meter_reading</th>\n",
       "      <th>site_id</th>\n",
       "      <th>primary_use</th>\n",
       "      <th>square_feet</th>\n",
       "      <th>year_built</th>\n",
       "      <th>floor_count</th>\n",
       "      <th>air_temperature</th>\n",
       "      <th>cloud_coverage</th>\n",
       "      <th>dew_temperature</th>\n",
       "      <th>precip_depth_1_hr</th>\n",
       "      <th>sea_level_pressure</th>\n",
       "      <th>wind_direction</th>\n",
       "      <th>wind_speed</th>\n",
       "    </tr>\n",
       "  </thead>\n",
       "  <tbody>\n",
       "    <tr>\n",
       "      <td>0</td>\n",
       "      <td>9</td>\n",
       "      <td>0</td>\n",
       "      <td>2016-01-01</td>\n",
       "      <td>0.0</td>\n",
       "      <td>0</td>\n",
       "      <td>Office</td>\n",
       "      <td>27000</td>\n",
       "      <td>2010.0</td>\n",
       "      <td>NaN</td>\n",
       "      <td>25.0</td>\n",
       "      <td>6.0</td>\n",
       "      <td>20.0</td>\n",
       "      <td>0.0</td>\n",
       "      <td>1019.5</td>\n",
       "      <td>0.0</td>\n",
       "      <td>0.0</td>\n",
       "    </tr>\n",
       "    <tr>\n",
       "      <td>1</td>\n",
       "      <td>15</td>\n",
       "      <td>0</td>\n",
       "      <td>2016-01-01</td>\n",
       "      <td>0.0</td>\n",
       "      <td>0</td>\n",
       "      <td>Office</td>\n",
       "      <td>83957</td>\n",
       "      <td>1974.0</td>\n",
       "      <td>NaN</td>\n",
       "      <td>25.0</td>\n",
       "      <td>6.0</td>\n",
       "      <td>20.0</td>\n",
       "      <td>0.0</td>\n",
       "      <td>1019.5</td>\n",
       "      <td>0.0</td>\n",
       "      <td>0.0</td>\n",
       "    </tr>\n",
       "    <tr>\n",
       "      <td>2</td>\n",
       "      <td>17</td>\n",
       "      <td>0</td>\n",
       "      <td>2016-01-01</td>\n",
       "      <td>0.0</td>\n",
       "      <td>0</td>\n",
       "      <td>Office</td>\n",
       "      <td>15250</td>\n",
       "      <td>1980.0</td>\n",
       "      <td>NaN</td>\n",
       "      <td>25.0</td>\n",
       "      <td>6.0</td>\n",
       "      <td>20.0</td>\n",
       "      <td>0.0</td>\n",
       "      <td>1019.5</td>\n",
       "      <td>0.0</td>\n",
       "      <td>0.0</td>\n",
       "    </tr>\n",
       "    <tr>\n",
       "      <td>3</td>\n",
       "      <td>19</td>\n",
       "      <td>0</td>\n",
       "      <td>2016-01-01</td>\n",
       "      <td>0.0</td>\n",
       "      <td>0</td>\n",
       "      <td>Office</td>\n",
       "      <td>18717</td>\n",
       "      <td>2004.0</td>\n",
       "      <td>NaN</td>\n",
       "      <td>25.0</td>\n",
       "      <td>6.0</td>\n",
       "      <td>20.0</td>\n",
       "      <td>0.0</td>\n",
       "      <td>1019.5</td>\n",
       "      <td>0.0</td>\n",
       "      <td>0.0</td>\n",
       "    </tr>\n",
       "    <tr>\n",
       "      <td>4</td>\n",
       "      <td>21</td>\n",
       "      <td>0</td>\n",
       "      <td>2016-01-01</td>\n",
       "      <td>0.0</td>\n",
       "      <td>0</td>\n",
       "      <td>Office</td>\n",
       "      <td>7043</td>\n",
       "      <td>1990.0</td>\n",
       "      <td>NaN</td>\n",
       "      <td>25.0</td>\n",
       "      <td>6.0</td>\n",
       "      <td>20.0</td>\n",
       "      <td>0.0</td>\n",
       "      <td>1019.5</td>\n",
       "      <td>0.0</td>\n",
       "      <td>0.0</td>\n",
       "    </tr>\n",
       "  </tbody>\n",
       "</table>\n",
       "</div>"
      ],
      "text/plain": [
       "   building_id  meter  timestamp  meter_reading  site_id primary_use  \\\n",
       "0            9      0 2016-01-01            0.0        0      Office   \n",
       "1           15      0 2016-01-01            0.0        0      Office   \n",
       "2           17      0 2016-01-01            0.0        0      Office   \n",
       "3           19      0 2016-01-01            0.0        0      Office   \n",
       "4           21      0 2016-01-01            0.0        0      Office   \n",
       "\n",
       "   square_feet  year_built  floor_count  air_temperature  cloud_coverage  \\\n",
       "0        27000      2010.0          NaN             25.0             6.0   \n",
       "1        83957      1974.0          NaN             25.0             6.0   \n",
       "2        15250      1980.0          NaN             25.0             6.0   \n",
       "3        18717      2004.0          NaN             25.0             6.0   \n",
       "4         7043      1990.0          NaN             25.0             6.0   \n",
       "\n",
       "   dew_temperature  precip_depth_1_hr  sea_level_pressure  wind_direction  \\\n",
       "0             20.0                0.0              1019.5             0.0   \n",
       "1             20.0                0.0              1019.5             0.0   \n",
       "2             20.0                0.0              1019.5             0.0   \n",
       "3             20.0                0.0              1019.5             0.0   \n",
       "4             20.0                0.0              1019.5             0.0   \n",
       "\n",
       "   wind_speed  \n",
       "0         0.0  \n",
       "1         0.0  \n",
       "2         0.0  \n",
       "3         0.0  \n",
       "4         0.0  "
      ]
     },
     "execution_count": 24,
     "metadata": {},
     "output_type": "execute_result"
    }
   ],
   "source": [
    "# count the number of different building types in the dataset\n",
    "# df_building_metadata['primary_use'].value_counts()\n",
    "\n",
    "# filter out the data that relates to office buildings\n",
    "df_building_metadata = df_building_metadata[df_building_metadata['primary_use'] == 'Office']\n",
    "\n",
    "# merge this data with the main dataframe, so that we only have meter readings for office buildings\n",
    "df = df.merge(df_building_metadata, on='building_id', how='inner')\n",
    "\n",
    "# merge weather data with the main dataframe, so that all the information is in one place\n",
    "df = df.merge(df_weather, on=['site_id', 'timestamp'], how='inner')\n",
    "\n",
    "# check dataframe\n",
    "df.head()"
   ]
  },
  {
   "cell_type": "markdown",
   "metadata": {},
   "source": [
    "## 3.4 - CHECK FOR NULL VALUES IN THE METADATA DATASET"
   ]
  },
  {
   "cell_type": "code",
   "execution_count": 25,
   "metadata": {},
   "outputs": [
    {
     "name": "stdout",
     "output_type": "stream",
     "text": [
      "floor_count           91.875\n",
      "year_built            75.699\n",
      "wind_speed             0.000\n",
      "wind_direction         0.000\n",
      "sea_level_pressure     0.000\n",
      "precip_depth_1_hr      0.000\n",
      "dew_temperature        0.000\n",
      "cloud_coverage         0.000\n",
      "air_temperature        0.000\n",
      "square_feet            0.000\n",
      "primary_use            0.000\n",
      "site_id                0.000\n",
      "meter_reading          0.000\n",
      "timestamp              0.000\n",
      "meter                  0.000\n",
      "building_id            0.000\n",
      "dtype: float64\n"
     ]
    }
   ],
   "source": [
    "print(round(df.isna().sum().sort_values(ascending=False) / len(df.index) * 100, 3))"
   ]
  },
  {
   "cell_type": "code",
   "execution_count": 26,
   "metadata": {
    "scrolled": false
   },
   "outputs": [
    {
     "data": {
      "text/html": [
       "<div>\n",
       "<style scoped>\n",
       "    .dataframe tbody tr th:only-of-type {\n",
       "        vertical-align: middle;\n",
       "    }\n",
       "\n",
       "    .dataframe tbody tr th {\n",
       "        vertical-align: top;\n",
       "    }\n",
       "\n",
       "    .dataframe thead th {\n",
       "        text-align: right;\n",
       "    }\n",
       "</style>\n",
       "<table border=\"1\" class=\"dataframe\">\n",
       "  <thead>\n",
       "    <tr style=\"text-align: right;\">\n",
       "      <th></th>\n",
       "      <th>building_id</th>\n",
       "      <th>meter</th>\n",
       "      <th>timestamp</th>\n",
       "      <th>meter_reading</th>\n",
       "      <th>site_id</th>\n",
       "      <th>primary_use</th>\n",
       "      <th>square_feet</th>\n",
       "      <th>air_temperature</th>\n",
       "      <th>cloud_coverage</th>\n",
       "      <th>dew_temperature</th>\n",
       "      <th>precip_depth_1_hr</th>\n",
       "      <th>sea_level_pressure</th>\n",
       "      <th>wind_direction</th>\n",
       "      <th>wind_speed</th>\n",
       "    </tr>\n",
       "  </thead>\n",
       "  <tbody>\n",
       "    <tr>\n",
       "      <td>0</td>\n",
       "      <td>9</td>\n",
       "      <td>0</td>\n",
       "      <td>2016-01-01</td>\n",
       "      <td>0.0</td>\n",
       "      <td>0</td>\n",
       "      <td>Office</td>\n",
       "      <td>27000</td>\n",
       "      <td>25.0</td>\n",
       "      <td>6.0</td>\n",
       "      <td>20.0</td>\n",
       "      <td>0.0</td>\n",
       "      <td>1019.5</td>\n",
       "      <td>0.0</td>\n",
       "      <td>0.0</td>\n",
       "    </tr>\n",
       "    <tr>\n",
       "      <td>1</td>\n",
       "      <td>15</td>\n",
       "      <td>0</td>\n",
       "      <td>2016-01-01</td>\n",
       "      <td>0.0</td>\n",
       "      <td>0</td>\n",
       "      <td>Office</td>\n",
       "      <td>83957</td>\n",
       "      <td>25.0</td>\n",
       "      <td>6.0</td>\n",
       "      <td>20.0</td>\n",
       "      <td>0.0</td>\n",
       "      <td>1019.5</td>\n",
       "      <td>0.0</td>\n",
       "      <td>0.0</td>\n",
       "    </tr>\n",
       "    <tr>\n",
       "      <td>2</td>\n",
       "      <td>17</td>\n",
       "      <td>0</td>\n",
       "      <td>2016-01-01</td>\n",
       "      <td>0.0</td>\n",
       "      <td>0</td>\n",
       "      <td>Office</td>\n",
       "      <td>15250</td>\n",
       "      <td>25.0</td>\n",
       "      <td>6.0</td>\n",
       "      <td>20.0</td>\n",
       "      <td>0.0</td>\n",
       "      <td>1019.5</td>\n",
       "      <td>0.0</td>\n",
       "      <td>0.0</td>\n",
       "    </tr>\n",
       "    <tr>\n",
       "      <td>3</td>\n",
       "      <td>19</td>\n",
       "      <td>0</td>\n",
       "      <td>2016-01-01</td>\n",
       "      <td>0.0</td>\n",
       "      <td>0</td>\n",
       "      <td>Office</td>\n",
       "      <td>18717</td>\n",
       "      <td>25.0</td>\n",
       "      <td>6.0</td>\n",
       "      <td>20.0</td>\n",
       "      <td>0.0</td>\n",
       "      <td>1019.5</td>\n",
       "      <td>0.0</td>\n",
       "      <td>0.0</td>\n",
       "    </tr>\n",
       "    <tr>\n",
       "      <td>4</td>\n",
       "      <td>21</td>\n",
       "      <td>0</td>\n",
       "      <td>2016-01-01</td>\n",
       "      <td>0.0</td>\n",
       "      <td>0</td>\n",
       "      <td>Office</td>\n",
       "      <td>7043</td>\n",
       "      <td>25.0</td>\n",
       "      <td>6.0</td>\n",
       "      <td>20.0</td>\n",
       "      <td>0.0</td>\n",
       "      <td>1019.5</td>\n",
       "      <td>0.0</td>\n",
       "      <td>0.0</td>\n",
       "    </tr>\n",
       "  </tbody>\n",
       "</table>\n",
       "</div>"
      ],
      "text/plain": [
       "   building_id  meter  timestamp  meter_reading  site_id primary_use  \\\n",
       "0            9      0 2016-01-01            0.0        0      Office   \n",
       "1           15      0 2016-01-01            0.0        0      Office   \n",
       "2           17      0 2016-01-01            0.0        0      Office   \n",
       "3           19      0 2016-01-01            0.0        0      Office   \n",
       "4           21      0 2016-01-01            0.0        0      Office   \n",
       "\n",
       "   square_feet  air_temperature  cloud_coverage  dew_temperature  \\\n",
       "0        27000             25.0             6.0             20.0   \n",
       "1        83957             25.0             6.0             20.0   \n",
       "2        15250             25.0             6.0             20.0   \n",
       "3        18717             25.0             6.0             20.0   \n",
       "4         7043             25.0             6.0             20.0   \n",
       "\n",
       "   precip_depth_1_hr  sea_level_pressure  wind_direction  wind_speed  \n",
       "0                0.0              1019.5             0.0         0.0  \n",
       "1                0.0              1019.5             0.0         0.0  \n",
       "2                0.0              1019.5             0.0         0.0  \n",
       "3                0.0              1019.5             0.0         0.0  \n",
       "4                0.0              1019.5             0.0         0.0  "
      ]
     },
     "execution_count": 26,
     "metadata": {},
     "output_type": "execute_result"
    }
   ],
   "source": [
    "# There's no great way to fill the floor_count and year_built columns\n",
    "# Since there are a large number of nulls in the floor_count and year_built features, we will drop these columns\n",
    "\n",
    "df = df.drop('floor_count', axis=1)\n",
    "df = df.drop('year_built', axis=1)\n",
    "\n",
    "df.head()"
   ]
  },
  {
   "cell_type": "markdown",
   "metadata": {},
   "source": [
    "## 3.5 - USE THIS SECTION TO VIEW METER DATA AND WEATHER DATA TOGETHER"
   ]
  },
  {
   "cell_type": "code",
   "execution_count": 27,
   "metadata": {
    "scrolled": false
   },
   "outputs": [
    {
     "name": "stdout",
     "output_type": "stream",
     "text": [
      "Displaying data for Building 9 between: 2016-07-01 and 2016-07-02 \n",
      "\n",
      "Building's primary use: Office\n",
      "Building size: 27000 square feet\n"
     ]
    },
    {
     "data": {
      "image/png": "[encoded data removed]",
      "text/plain": [
       "<Figure size 1440x144 with 1 Axes>"
      ]
     },
     "metadata": {
      "needs_background": "light"
     },
     "output_type": "display_data"
    },
    {
     "data": {
      "image/png": "[encoded data removed]",
      "text/plain": [
       "<Figure size 1440x144 with 1 Axes>"
      ]
     },
     "metadata": {
      "needs_background": "light"
     },
     "output_type": "display_data"
    },
    {
     "data": {
      "image/png": "[encoded data removed]",
      "text/plain": [
       "<Figure size 1440x144 with 1 Axes>"
      ]
     },
     "metadata": {
      "needs_background": "light"
     },
     "output_type": "display_data"
    },
    {
     "data": {
      "image/png": "[encoded data removed]",
      "text/plain": [
       "<Figure size 1440x144 with 1 Axes>"
      ]
     },
     "metadata": {
      "needs_background": "light"
     },
     "output_type": "display_data"
    },
    {
     "data": {
      "image/png": "[encoded data removed]",
      "text/plain": [
       "<Figure size 1440x144 with 1 Axes>"
      ]
     },
     "metadata": {
      "needs_background": "light"
     },
     "output_type": "display_data"
    },
    {
     "data": {
      "image/png": "[encoded data removed]",
      "text/plain": [
       "<Figure size 1440x144 with 1 Axes>"
      ]
     },
     "metadata": {
      "needs_background": "light"
     },
     "output_type": "display_data"
    },
    {
     "data": {
      "image/png": "[encoded data removed]",
      "text/plain": [
       "<Figure size 1440x144 with 1 Axes>"
      ]
     },
     "metadata": {
      "needs_background": "light"
     },
     "output_type": "display_data"
    },
    {
     "data": {
      "image/png": "[encoded data removed]",
      "text/plain": [
       "<Figure size 1440x144 with 1 Axes>"
      ]
     },
     "metadata": {
      "needs_background": "light"
     },
     "output_type": "display_data"
    },
    {
     "data": {
      "image/png": "[encoded data removed]",
      "text/plain": [
       "<Figure size 1440x144 with 1 Axes>"
      ]
     },
     "metadata": {
      "needs_background": "light"
     },
     "output_type": "display_data"
    }
   ],
   "source": [
    "# Change the building_id, the start date, and the end date. This will plot everything, in increments of days\n",
    "\n",
    "# --------------------------#\n",
    "building = 9\n",
    "start_day = \"2016-07-01\"\n",
    "end_day = \"2016-07-02\"\n",
    "# --------------------------#\n",
    "\n",
    "if building in df['building_id'].unique():\n",
    "    display_energy_use(df, building, start_day, end_day)  "
   ]
  },
  {
   "cell_type": "code",
   "execution_count": null,
   "metadata": {},
   "outputs": [],
   "source": []
  },
  {
   "cell_type": "code",
   "execution_count": null,
   "metadata": {},
   "outputs": [],
   "source": [
    "\n"
   ]
  }
 ],
 "metadata": {
  "kernelspec": {
   "display_name": "Python 3",
   "language": "python",
   "name": "python3"
  },
  "language_info": {
   "codemirror_mode": {
    "name": "ipython",
    "version": 3
   },
   "file_extension": ".py",
   "mimetype": "text/x-python",
   "name": "python",
   "nbconvert_exporter": "python",
   "pygments_lexer": "ipython3",
   "version": "3.6.7"
  }
 },
 "nbformat": 4,
 "nbformat_minor": 2
}
